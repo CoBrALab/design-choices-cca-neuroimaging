{
 "cells": [
  {
   "cell_type": "code",
   "execution_count": 3,
   "metadata": {},
   "outputs": [],
   "source": [
    "import pandas as pd"
   ]
  },
  {
   "cell_type": "code",
   "execution_count": 4,
   "metadata": {},
   "outputs": [],
   "source": [
    "dict_col_names = pd.read_csv(r'approved_col_headers.csv', index_col=0).T.to_dict('list')"
   ]
  },
  {
   "cell_type": "code",
   "execution_count": 5,
   "metadata": {},
   "outputs": [],
   "source": [
    "for key in dict_col_names:\n",
    "    val_tostring_temp = dict_col_names[key][0]\n",
    "    dict_col_names[key] = val_tostring_temp"
   ]
  },
  {
   "cell_type": "code",
   "execution_count": 45,
   "metadata": {},
   "outputs": [
    {
     "data": {
      "text/plain": [
       "'Physical Activity 3'"
      ]
     },
     "execution_count": 45,
     "metadata": {},
     "output_type": "execute_result"
    }
   ],
   "source": [
    "dict_col_names[\"epaq_TOTALtime\"]"
   ]
  },
  {
   "cell_type": "code",
   "execution_count": 4,
   "metadata": {},
   "outputs": [
    {
     "name": "stdout",
     "output_type": "stream",
     "text": [
      "{'homeint_handedness': 'Handedness', 'homeint_v692': \"Alzheimer's\", 'additional_SC_r': 'Social Class', 'additional_SEG_r': 'Economic Group', 'homeint_mmse_gp': 'MMSE Group', 'additional_qual': 'Education', 'homeint_v336': 'Hearing Difficulties 1', 'homeint_v337': 'Hearing Difficulties 2', 'homeint_v338': 'Hearing Difficulties 3', 'homeint_v339': 'Hearing Difficulties 4', 'homeint_v457': 'Head Injury 1', 'homeint_v458': 'Head Injury 2', 'homeint_v459': 'Head Injury 3', 'homeint_v460': 'Head Injury 4', 'homeint_v468': 'Skull Fracture 1', 'homeint_v349': 'High Blood Pressure 1', 'homeint_v350': 'High Blood Pressure 2', 'homeint_v351': 'High Blood Pressure 3', 'homeint_v352': 'High Blood Pressure 4', 'homeint_v353': 'High Blood Pressure 5', 'homeint_v354': 'High Blood Pressure 6', 'homeint_v355': 'High Cholesterol 1', 'homeint_v356': 'High Cholesterol 2', 'homeint_v357': 'Angina 1', 'homeint_v358': 'Angina 2', 'homeint_v359': 'Heart Attack 1', 'homeint_v360': 'Heart Attack 2', 'homeint_v361': 'Cardiac Issues 1', 'homeint_v362': 'Cardiac Issues 2', 'homeint_v363': nan, 'homeint_v364': 'Varicose Veins 1', 'homeint_v365': 'Varicose Veins 2', 'homeint_v366': 'Migraines 1', 'homeint_v367': 'Migraines 2', 'homeint_v368': 'Stroke 1', 'homeint_v369': 'Stroke 2', 'homeint_v370': 'Pulmonary Embolism 1', 'homeint_v371': 'Pulmonary Embolism 2', 'homeint_v372': 'Deep Vein Thrombosis 1', 'homeint_v373': 'Deep Vein Thrombosis 2', 'homeint_v374': 'Vascular Disease 1', 'homeint_v375': 'Vascular Disease 2', 'homeint_v376': nan, 'additional_alcohol': 'Alcohol', 'additional_smoker': 'Smoking', 'additional_HADS_depression': 'Depression Score', 'additional_HADS_dep_category': 'Depression Group', 'homeint_v13': 'Household Size', 'homeint_v90': 'Social Life 1', 'homeint_v91': 'Social Life 2', 'homeint_v92': 'Social Life 3', 'homeint_v93': 'Social Life 4', 'homeint_v94': 'Social Life 5', 'homeint_v95': 'Social Life 6', 'homeint_v96': 'Social Life 7', 'homeint_v97': 'Social Life 8', 'homeint_v98': 'Social Life 9', 'homeint_v377': 'Diabetes 1', 'homeint_v378': 'Diabetes 2', 'epaq_TOTMETHRS': 'Physical Activity 1', 'epaq_TOTMETHRS_w_UNACCtime': 'Physical Activity 2', 'epaq_TOTALtime': 'Physical Activity 3', 'epaq_ACTMETS': 'Physical Activity 4'}\n"
     ]
    },
    {
     "ename": "SyntaxError",
     "evalue": "'return' outside function (<ipython-input-4-65579f51a7b0>, line 2)",
     "output_type": "error",
     "traceback": [
      "\u001b[1;36m  File \u001b[1;32m\"<ipython-input-4-65579f51a7b0>\"\u001b[1;36m, line \u001b[1;32m2\u001b[0m\n\u001b[1;33m    return dict_col_names\u001b[0m\n\u001b[1;37m                         ^\u001b[0m\n\u001b[1;31mSyntaxError\u001b[0m\u001b[1;31m:\u001b[0m 'return' outside function\n"
     ]
    }
   ],
   "source": [
    "print(dict_col_names)\n",
    "#return dict_col_names"
   ]
  },
  {
   "cell_type": "code",
   "execution_count": null,
   "metadata": {},
   "outputs": [],
   "source": []
  },
  {
   "cell_type": "code",
   "execution_count": 2,
   "metadata": {},
   "outputs": [],
   "source": [
    "ls = [\"Handedness\",\n",
    "\"Alzheimer's\",\n",
    "\"Social Class\",\n",
    "\"Economic Group\",\n",
    "\"MMSE Group\",\n",
    "\"Education\",\n",
    "\"Hearing Difficulties 1\",\n",
    "\"Hearing Difficulties 2\",\n",
    "\"Hearing Difficulties 3\",\n",
    "\"Hearing Difficulties 4\",\n",
    "\"Head Injury 1\",\n",
    "\"Head Injury 2\",\n",
    "\"Head Injury 3\",\n",
    "\"Head Injury 4\",\n",
    "\"Skull Fracture 1\",\n",
    "\"High Blood Pressure 1\",\n",
    "\"High Blood Pressure 2\",\n",
    "\"High Blood Pressure 3\",\n",
    "\"High Blood Pressure 4\",\n",
    "\"High Blood Pressure 5\",\n",
    "\"High Blood Pressure 6\",\n",
    "\"High Cholesterol 1\",\n",
    "\"High Cholesterol 2\",\n",
    "\"Angina 1\",\n",
    "\"Angina 2\",\n",
    "\"Heart Attack 1\",\n",
    "\"Heart Attack 2\",\n",
    "\"Cardiac Issues 1\",\n",
    "\"Cardiac Issues 2\",\n",
    "\"Varicose Veins 1\",\n",
    "\"Varicose Veins 2\",\n",
    "\"Migraines 1\",\n",
    "\"Migraines 2\",\n",
    "\"Stroke 1\",\n",
    "\"Stroke 2\",\n",
    "\"Pulmonary Embolism 1\",\n",
    "\"Pulmonary Embolism 2\",\n",
    "\"Deep Vein Thrombosis 1\",\n",
    "\"Deep Vein Thrombosis 2\",\n",
    "\"Vascular Disease 1\",\n",
    "\"Vascular Disease 2\",\n",
    "\"Alcohol\",\n",
    "\"Smoking\",\n",
    "\"Depression Score\",\n",
    "\"Depression Group\",\n",
    "\"Household Size\",\n",
    "\"Social Life 1\",\n",
    "\"Social Life 2\",\n",
    "\"Social Life 3\",\n",
    "\"Social Life 4\",\n",
    "\"Social Life 5\",\n",
    "\"Social Life 6\",\n",
    "\"Social Life 7\",\n",
    "\"Social Life 8\",\n",
    "\"Social Life 9\",\n",
    "\"Diabetes 1\",\n",
    "\"Diabetes 2\",\n",
    "\"Physical Activity 1\",\n",
    "\"Physical Activity 2\",\n",
    "\"Physical Activity 3\",\n",
    "\"Physical Activity 4\",]"
   ]
  },
  {
   "cell_type": "code",
   "execution_count": 3,
   "metadata": {},
   "outputs": [
    {
     "name": "stdout",
     "output_type": "stream",
     "text": [
      "['Handedness', \"Alzheimer's\", 'Social Class', 'Economic Group', 'MMSE Group', 'Education', 'Hearing Difficulties 1', 'Hearing Difficulties 2', 'Hearing Difficulties 3', 'Hearing Difficulties 4', 'Head Injury 1', 'Head Injury 2', 'Head Injury 3', 'Head Injury 4', 'Skull Fracture 1', 'High Blood Pressure 1', 'High Blood Pressure 2', 'High Blood Pressure 3', 'High Blood Pressure 4', 'High Blood Pressure 5', 'High Blood Pressure 6', 'High Cholesterol 1', 'High Cholesterol 2', 'Angina 1', 'Angina 2', 'Heart Attack 1', 'Heart Attack 2', 'Cardiac Issues 1', 'Cardiac Issues 2', 'Varicose Veins 1', 'Varicose Veins 2', 'Migraines 1', 'Migraines 2', 'Stroke 1', 'Stroke 2', 'Pulmonary Embolism 1', 'Pulmonary Embolism 2', 'Deep Vein Thrombosis 1', 'Deep Vein Thrombosis 2', 'Vascular Disease 1', 'Vascular Disease 2', 'Alcohol', 'Smoking', 'Depression Score', 'Depression Group', 'Household Size', 'Social Life 1', 'Social Life 2', 'Social Life 3', 'Social Life 4', 'Social Life 5', 'Social Life 6', 'Social Life 7', 'Social Life 8', 'Social Life 9', 'Diabetes 1', 'Diabetes 2', 'Physical Activity 1', 'Physical Activity 2', 'Physical Activity 3', 'Physical Activity 4']\n"
     ]
    }
   ],
   "source": [
    "print(ls)"
   ]
  },
  {
   "cell_type": "code",
   "execution_count": null,
   "metadata": {},
   "outputs": [],
   "source": []
  }
 ],
 "metadata": {
  "kernelspec": {
   "display_name": "Python 3",
   "language": "python",
   "name": "python3"
  },
  "language_info": {
   "codemirror_mode": {
    "name": "ipython",
    "version": 3
   },
   "file_extension": ".py",
   "mimetype": "text/x-python",
   "name": "python",
   "nbconvert_exporter": "python",
   "pygments_lexer": "ipython3",
   "version": "3.6.4"
  }
 },
 "nbformat": 4,
 "nbformat_minor": 2
}
