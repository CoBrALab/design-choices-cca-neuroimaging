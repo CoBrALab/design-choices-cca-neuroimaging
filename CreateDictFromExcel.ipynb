{
 "cells": [
  {
   "cell_type": "code",
   "execution_count": 3,
   "metadata": {},
   "outputs": [],
   "source": [
    "import pandas as pd"
   ]
  },
  {
   "cell_type": "code",
   "execution_count": null,
   "metadata": {},
   "outputs": [],
   "source": [
    "#Dictionaries are used to store data values in key:value pairs"
   ]
  },
  {
   "cell_type": "code",
   "execution_count": 4,
   "metadata": {},
   "outputs": [],
   "source": [
    "#read in the excel file to be made into a dictionary\n",
    "dict_col_names = pd.read_csv(r'approved_col_headers.csv', index_col=0).T.to_dict('list')"
   ]
  },
  {
   "cell_type": "code",
   "execution_count": 5,
   "metadata": {},
   "outputs": [],
   "source": [
    "#map the first column to a key and the second column to a corresponding value\n",
    "for key in dict_col_names:\n",
    "    val_tostring_temp = dict_col_names[key][0]\n",
    "    dict_col_names[key] = val_tostring_temp"
   ]
  },
  {
   "cell_type": "code",
   "execution_count": 4,
   "metadata": {},
   "outputs": [
    {
     "name": "stdout",
     "output_type": "stream",
     "text": [
      "{'homeint_handedness': 'Handedness', 'homeint_v692': \"Alzheimer's\", 'additional_SC_r': 'Social Class', 'additional_SEG_r': 'Economic Group', 'homeint_mmse_gp': 'MMSE Group', 'additional_qual': 'Education', 'homeint_v336': 'Hearing Difficulties 1', 'homeint_v337': 'Hearing Difficulties 2', 'homeint_v338': 'Hearing Difficulties 3', 'homeint_v339': 'Hearing Difficulties 4', 'homeint_v457': 'Head Injury 1', 'homeint_v458': 'Head Injury 2', 'homeint_v459': 'Head Injury 3', 'homeint_v460': 'Head Injury 4', 'homeint_v468': 'Skull Fracture 1', 'homeint_v349': 'High Blood Pressure 1', 'homeint_v350': 'High Blood Pressure 2', 'homeint_v351': 'High Blood Pressure 3', 'homeint_v352': 'High Blood Pressure 4', 'homeint_v353': 'High Blood Pressure 5', 'homeint_v354': 'High Blood Pressure 6', 'homeint_v355': 'High Cholesterol 1', 'homeint_v356': 'High Cholesterol 2', 'homeint_v357': 'Angina 1', 'homeint_v358': 'Angina 2', 'homeint_v359': 'Heart Attack 1', 'homeint_v360': 'Heart Attack 2', 'homeint_v361': 'Cardiac Issues 1', 'homeint_v362': 'Cardiac Issues 2', 'homeint_v363': nan, 'homeint_v364': 'Varicose Veins 1', 'homeint_v365': 'Varicose Veins 2', 'homeint_v366': 'Migraines 1', 'homeint_v367': 'Migraines 2', 'homeint_v368': 'Stroke 1', 'homeint_v369': 'Stroke 2', 'homeint_v370': 'Pulmonary Embolism 1', 'homeint_v371': 'Pulmonary Embolism 2', 'homeint_v372': 'Deep Vein Thrombosis 1', 'homeint_v373': 'Deep Vein Thrombosis 2', 'homeint_v374': 'Vascular Disease 1', 'homeint_v375': 'Vascular Disease 2', 'homeint_v376': nan, 'additional_alcohol': 'Alcohol', 'additional_smoker': 'Smoking', 'additional_HADS_depression': 'Depression Score', 'additional_HADS_dep_category': 'Depression Group', 'homeint_v13': 'Household Size', 'homeint_v90': 'Social Life 1', 'homeint_v91': 'Social Life 2', 'homeint_v92': 'Social Life 3', 'homeint_v93': 'Social Life 4', 'homeint_v94': 'Social Life 5', 'homeint_v95': 'Social Life 6', 'homeint_v96': 'Social Life 7', 'homeint_v97': 'Social Life 8', 'homeint_v98': 'Social Life 9', 'homeint_v377': 'Diabetes 1', 'homeint_v378': 'Diabetes 2', 'epaq_TOTMETHRS': 'Physical Activity 1', 'epaq_TOTMETHRS_w_UNACCtime': 'Physical Activity 2', 'epaq_TOTALtime': 'Physical Activity 3', 'epaq_ACTMETS': 'Physical Activity 4'}\n"
     ]
    },
    {
     "ename": "SyntaxError",
     "evalue": "'return' outside function (<ipython-input-4-65579f51a7b0>, line 2)",
     "output_type": "error",
     "traceback": [
      "\u001b[1;36m  File \u001b[1;32m\"<ipython-input-4-65579f51a7b0>\"\u001b[1;36m, line \u001b[1;32m2\u001b[0m\n\u001b[1;33m    return dict_col_names\u001b[0m\n\u001b[1;37m                         ^\u001b[0m\n\u001b[1;31mSyntaxError\u001b[0m\u001b[1;31m:\u001b[0m 'return' outside function\n"
     ]
    }
   ],
   "source": [
    "print(dict_col_names)"
   ]
  },
  {
   "cell_type": "code",
   "execution_count": null,
   "metadata": {},
   "outputs": [],
   "source": []
  }
 ],
 "metadata": {
  "kernelspec": {
   "display_name": "Python 3",
   "language": "python",
   "name": "python3"
  },
  "language_info": {
   "codemirror_mode": {
    "name": "ipython",
    "version": 3
   },
   "file_extension": ".py",
   "mimetype": "text/x-python",
   "name": "python",
   "nbconvert_exporter": "python",
   "pygments_lexer": "ipython3",
   "version": "3.6.4"
  }
 },
 "nbformat": 4,
 "nbformat_minor": 2
}
