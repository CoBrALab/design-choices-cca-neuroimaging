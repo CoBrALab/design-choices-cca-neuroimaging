{
 "cells": [
  {
   "cell_type": "code",
   "execution_count": 1,
   "metadata": {},
   "outputs": [
    {
     "name": "stderr",
     "output_type": "stream",
     "text": [
      "c:\\users\\grace\\appdata\\local\\programs\\python\\python36\\lib\\importlib\\_bootstrap_external.py:426: ImportWarning: Not importing directory c:\\users\\grace\\appdata\\local\\programs\\python\\python36\\lib\\site-packages\\google: missing __init__\n",
      "  _warnings.warn(msg.format(portions[0]), ImportWarning)\n",
      "c:\\users\\grace\\appdata\\local\\programs\\python\\python36\\lib\\importlib\\_bootstrap_external.py:426: ImportWarning: Not importing directory c:\\users\\grace\\appdata\\local\\programs\\python\\python36\\lib\\site-packages\\mpl_toolkits: missing __init__\n",
      "  _warnings.warn(msg.format(portions[0]), ImportWarning)\n"
     ]
    }
   ],
   "source": [
    "import os\n",
    "import re\n",
    "import glob\n",
    "import pandas as pd\n",
    "import csv\n",
    "from sklearn.cross_decomposition import CCA\n",
    "from sklearn.utils import resample\n",
    "from sklearn.utils import shuffle\n",
    "import load_approved_data\n",
    "import matplotlib.pyplot as plt\n",
    "import numpy as np\n",
    "import time\n",
    "import seaborn as sns\n",
    "import random\n",
    "from sklearn.preprocessing import StandardScaler\n",
    "from scipy.stats import zscore\n",
    "import matplotlib.ticker as ticker"
   ]
  },
  {
   "cell_type": "code",
   "execution_count": 2,
   "metadata": {},
   "outputs": [],
   "source": [
    "import warnings\n",
    "warnings.filterwarnings('ignore')"
   ]
  },
  {
   "cell_type": "code",
   "execution_count": 3,
   "metadata": {},
   "outputs": [],
   "source": [
    "bootstrap_iters = 5\n",
    "n_cca_components = 52"
   ]
  },
  {
   "cell_type": "code",
   "execution_count": 4,
   "metadata": {},
   "outputs": [],
   "source": [
    "#read in other demographic data to pandas dataframe\n",
    "demographics_data_filename = r'Project\\data\\original\\ukb46307_with_civet_reduced.tab'\n",
    "#approved_col_list = ['CCID', 'homeint_handedness', 'additional_qual','homeint_v349']\n",
    "\n",
    "demographics_data = pd.read_csv(demographics_data_filename, header=0,  index_col='f.eid', sep='\\t')\n",
    "#approved_data = load_approved_data.load_approved_data(approved_data_filename)"
   ]
  },
  {
   "cell_type": "code",
   "execution_count": 5,
   "metadata": {},
   "outputs": [
    {
     "name": "stdout",
     "output_type": "stream",
     "text": [
      "Participants: 26508\n"
     ]
    }
   ],
   "source": [
    "all_ids = demographics_data.index.tolist()\n",
    "print(\"Participants: \" + str(len(all_ids)))"
   ]
  },
  {
   "cell_type": "code",
   "execution_count": 6,
   "metadata": {},
   "outputs": [],
   "source": [
    "demographics_data = demographics_data.drop(columns=['countnull'])"
   ]
  },
  {
   "cell_type": "code",
   "execution_count": 7,
   "metadata": {},
   "outputs": [],
   "source": [
    "#demographics_data.columns[demographics_data.isna().any()].tolist()"
   ]
  },
  {
   "cell_type": "code",
   "execution_count": 8,
   "metadata": {},
   "outputs": [],
   "source": [
    "#print(demographics_data['f.1011.2.0'].value_counts())\n",
    "#demographics_data['f.1011.2.0'] = demographics_data['f.1011.2.0'].addcategory('-1000.0').fillna('-1000.0')\n",
    "#print(demographics_data['f.1011.2.0'].value_counts())"
   ]
  },
  {
   "cell_type": "code",
   "execution_count": 9,
   "metadata": {},
   "outputs": [],
   "source": [
    "demo_cols = demographics_data.columns"
   ]
  },
  {
   "cell_type": "code",
   "execution_count": 11,
   "metadata": {},
   "outputs": [],
   "source": [
    "col_name_dict_file = r'Project/data/supplemental/ColumnHeaders-WrittenNames-Shortform.csv'\n",
    "col_readable_name_dict = pd.read_csv(col_name_dict_file, header=None, index_col=0, squeeze=True).to_dict()"
   ]
  },
  {
   "cell_type": "code",
   "execution_count": 12,
   "metadata": {},
   "outputs": [],
   "source": [
    "demo_cols_categorical = ['f.31.0.0','f.971.2.0', 'f.981.2.0', 'f.991.2.0', 'f.1001.2.0', 'f.1011.2.0', 'f.1021.2.0', 'f.1031.2.0', 'f.1249.2.0', 'f.1259.2.0', 'f.2634.2.0', 'f.3393.2.0', 'f.3637.2.0', 'f.3647.2.0', 'f.4792.2.0', 'f.4803.2.0', 'f.6160.2.1', 'f.6160.2.2', 'f.6160.2.3', 'f.6160.2.4', 'f.20160.2.0']\n",
    "for col_name in  demo_cols:\n",
    "    if col_name in demo_cols_categorical:\n",
    "        #change column type to category\n",
    "        demographics_data[col_name] = demographics_data[col_name].astype('category')\n",
    "        if 0 in demographics_data[col_name].cat.categories:\n",
    "            if -1 in demographics_data[col_name].cat.categories:\n",
    "                demographics_data[col_name] = demographics_data[col_name].cat.add_categories('-1.0').fillna('-1.0')\n",
    "            else:\n",
    "                demographics_data[col_name] = demographics_data[col_name].cat.add_categories('-4.0').fillna('-4.0')\n",
    "        else:\n",
    "            demographics_data[col_name] = demographics_data[col_name].cat.add_categories('0').fillna('0')\n",
    "        #add category to encompass nulls\n",
    "        #demographics_data[col_name] = demographics_data[col_name].cat.add_categories('-1.0').fillna('-1.0')\n",
    "    else:\n",
    "        demographics_data[col_name] = demographics_data[col_name].fillna(demographics_data[col_name].mean())\n",
    "        demographics_data[col_name] = zscore(demographics_data[col_name])"
   ]
  },
  {
   "cell_type": "code",
   "execution_count": 13,
   "metadata": {},
   "outputs": [],
   "source": [
    "demographics_data = demographics_data.fillna(demographics_data.mean())"
   ]
  },
  {
   "cell_type": "code",
   "execution_count": 14,
   "metadata": {},
   "outputs": [],
   "source": [
    "#read in pca of vertices\n",
    "component_file_location = r'F:valid//all_600_pcas_vertex.csv'\n",
    "vertexes_data = pd.read_csv(component_file_location, header=None, index_col=0)#.transpose()"
   ]
  },
  {
   "cell_type": "code",
   "execution_count": 15,
   "metadata": {},
   "outputs": [],
   "source": [
    "vert_cols = vertexes_data.columns"
   ]
  },
  {
   "cell_type": "code",
   "execution_count": 16,
   "metadata": {},
   "outputs": [
    {
     "name": "stdout",
     "output_type": "stream",
     "text": [
      "(25043, 600)\n",
      "(26508, 52)\n"
     ]
    }
   ],
   "source": [
    "print(vertexes_data.shape)\n",
    "print(demographics_data.shape)"
   ]
  },
  {
   "cell_type": "code",
   "execution_count": 17,
   "metadata": {},
   "outputs": [],
   "source": [
    "demographics_data = pd.merge(vertexes_data,demographics_data,how=\"inner\",left_index=True,right_index=True)[demo_cols]"
   ]
  },
  {
   "cell_type": "code",
   "execution_count": 18,
   "metadata": {},
   "outputs": [],
   "source": [
    "vertexes_data.sort_index(inplace=True, ascending=True)\n",
    "demographics_data.sort_index(inplace=True, ascending=True)"
   ]
  },
  {
   "cell_type": "code",
   "execution_count": 19,
   "metadata": {},
   "outputs": [
    {
     "name": "stdout",
     "output_type": "stream",
     "text": [
      "(25043, 600)\n",
      "(25043, 52)\n"
     ]
    }
   ],
   "source": [
    "print(vertexes_data.shape)\n",
    "print(demographics_data.shape)"
   ]
  },
  {
   "cell_type": "code",
   "execution_count": 18,
   "metadata": {},
   "outputs": [],
   "source": [
    "#demographics_data.isna().sum().sum()"
   ]
  },
  {
   "cell_type": "code",
   "execution_count": 19,
   "metadata": {},
   "outputs": [],
   "source": [
    "#print(vertexes_data.head)\n",
    "#print(demographics_data.head)"
   ]
  },
  {
   "cell_type": "code",
   "execution_count": 20,
   "metadata": {},
   "outputs": [
    {
     "name": "stdout",
     "output_type": "stream",
     "text": [
      "(25043, 52)\n",
      "(25043, 52)\n"
     ]
    }
   ],
   "source": [
    "cca_model = CCA(n_components=52)\n",
    "cca_model.fit(demographics_data,vertexes_data)\n",
    "demographics_data_T, vertexes_data_T = cca_model.transform(demographics_data,vertexes_data)\n",
    "print(demographics_data_T.shape)\n",
    "print(vertexes_data_T.shape)\n",
    "result = np.corrcoef(demographics_data_T.T, vertexes_data_T.T).diagonal(offset=cca_model.n_components)\n",
    "cc_corr = np.corrcoef(cca_model.x_scores_, rowvar=False).diagonal(offset=cca_model.n_components)"
   ]
  },
  {
   "cell_type": "code",
   "execution_count": 21,
   "metadata": {},
   "outputs": [],
   "source": [
    "#print(X_weights[0,:].shape)\n",
    "#print(Y_weights[0,:].shape)\n",
    "#cc_corr = np.corrcoef(demographics_data_T[:,0],vertexes_data_T[:,0])\n",
    "#cc_corr = np.corrcoef(X_loadings,Y_loadings,rowvar=False).diagonal(offset=cca_model.n_components)\n",
    "#print(cc_corr)\n",
    "#print(len(cc_corr))\n",
    "#print(result)"
   ]
  },
  {
   "cell_type": "code",
   "execution_count": 21,
   "metadata": {},
   "outputs": [
    {
     "data": {
      "text/plain": [
       "Text(0.5, 1.0, 'Canonical correlations')"
      ]
     },
     "execution_count": 21,
     "metadata": {},
     "output_type": "execute_result"
    },
    {
     "data": {
      "image/png": "[encoded data removed]",
      "text/plain": [
       "<Figure size 864x576 with 1 Axes>"
      ]
     },
     "metadata": {
      "needs_background": "light"
     },
     "output_type": "display_data"
    }
   ],
   "source": [
    "plt.rcParams['figure.figsize'] = [12, 8]\n",
    "plt.plot(np.arange(cca_model.n_components)+1, result, 'ko')\n",
    "plt.xlim(.5, .5+cca_model.n_components)\n",
    "plt.xticks(np.arange(cca_model.n_components)+1)\n",
    "plt.xlabel('Canonical component')\n",
    "plt.ylabel('Canonical correlation')\n",
    "plt.title('Canonical correlations')"
   ]
  },
  {
   "cell_type": "code",
   "execution_count": 23,
   "metadata": {},
   "outputs": [],
   "source": [
    "#X = cca_model.predict(demographics)\n",
    "X_weights = cca_model.x_weights_\n",
    "X_loadings = cca_model.x_loadings_\n",
    "Y_weights = cca_model.y_weights_\n",
    "Y_loadings = cca_model.y_loadings_\n",
    "coefficients = cca_model.coef_\n",
    "\n",
    "my_coef_counts = dict()\n",
    "my_x_loadings = dict()\n",
    "for x_load in X_loadings.transpose():\n",
    "    #print(x_load)\n",
    "    my_x_loadings[repr(x_load)] = 1\n",
    "for coef in coefficients:\n",
    "    #print(coef.shape)\n",
    "    #Note: use repr to convert coef to string since can't hash numpy array\n",
    "    my_coef_counts[repr(coef)] = 1 "
   ]
  },
  {
   "cell_type": "code",
   "execution_count": 24,
   "metadata": {},
   "outputs": [],
   "source": [
    "x_loading_fileout = r'Project\\data\\cca_model_demographic_loadings.csv'\n",
    "with open(x_loading_fileout, 'w') as f:\n",
    "    cwriter = csv.writer(f, delimiter=',', lineterminator='\\n')\n",
    "    cwriter.writerows(X_loadings)"
   ]
  },
  {
   "cell_type": "code",
   "execution_count": 25,
   "metadata": {},
   "outputs": [],
   "source": [
    "y_loading_fileout = r'Project\\data\\cca_model_vertex_loadings.csv'\n",
    "with open(y_loading_fileout, 'w') as f:\n",
    "    cwriter = csv.writer(f, delimiter=',', lineterminator='\\n')\n",
    "    cwriter.writerows(Y_loadings)"
   ]
  },
  {
   "cell_type": "code",
   "execution_count": 26,
   "metadata": {},
   "outputs": [],
   "source": [
    "#cca_model_shuffled = CCA(n_components=52)\n",
    "#demographics_shuffled, vertexes_shuffled = shuffle(demographics_data, vertexes_data, random_state=b_iter)\n",
    "#cca_model_shuffled.fit(demographics_data, vertexes_shuffled)\n",
    "#test1_c, test2_c = cca_model_shuffled.transform(demographics_shuffled, vertexes_shuffled)\n",
    "#testcorrs = np.corrcoef(test1_c.T, test2_c.T).diagonal(offset=cca_model_shuffled.n_components)\n",
    "#corrcoefs_bstrap[:,b_iter] = testcorrs"
   ]
  },
  {
   "cell_type": "code",
   "execution_count": 22,
   "metadata": {},
   "outputs": [
    {
     "name": "stdout",
     "output_type": "stream",
     "text": [
      "(52, 5)\n"
     ]
    }
   ],
   "source": [
    "corrcoefs_bstrap = np.zeros((n_cca_components, bootstrap_iters))\n",
    "print(corrcoefs_bstrap.shape)\n",
    "fwe_vals = np.zeros((n_cca_components,1))\n",
    "count_bins=np.zeros(10)"
   ]
  },
  {
   "cell_type": "code",
   "execution_count": 25,
   "metadata": {},
   "outputs": [],
   "source": [
    "corrcoefs_bstrap_ls = []"
   ]
  },
  {
   "cell_type": "code",
   "execution_count": 26,
   "metadata": {},
   "outputs": [],
   "source": [
    "def run_shuffled_cca(ddata,vdata, ix):\n",
    "    demographics_shuffled, vertexes_shuffled = shuffle(ddata, vdata, random_state=ix)\n",
    "    #vertexes_shuffled = shuffle(vertexes)\n",
    "    cca_model_shuffled = CCA(n_components=n_cca_components)\n",
    "    cca_model_shuffled.fit(ddata,vertexes_shuffled)\n",
    "    #coefficients_temp = cca_model_shuffled.coef_\n",
    "    #X_loadings_temp = cca_model_shuffled.x_loadings_\n",
    "    #Y_loadings_temp = cca_model_shuffled.y_loadings_\n",
    "    test1_c, test2_c = cca_model_shuffled.transform(ddata, vertexes_shuffled)\n",
    "    testcorrs = np.corrcoef(test1_c.T, test2_c.T).diagonal(offset=cca_model_shuffled.n_components)\n",
    "    return testcorrs"
   ]
  },
  {
   "cell_type": "code",
   "execution_count": 27,
   "metadata": {},
   "outputs": [
    {
     "name": "stdout",
     "output_type": "stream",
     "text": [
      "Fri Apr  8 11:26:11 2022\n",
      "0 at Fri Apr  8 11:36:05 2022\n",
      "1649432165.0888963\n"
     ]
    }
   ],
   "source": [
    "print(time.ctime(time.time()))\n",
    "for b_iter in range(0,bootstrap_iters):\n",
    "    #corrcoefs_bstrap[:,b_iter] = run_shuffled_cca(demographics_data,vertexes_data)\n",
    "    corrcoefs_bstrap_ls.append(run_shuffled_cca(demographics_data,vertexes_data,b_iter))\n",
    "    \"\"\"\n",
    "    for testcorrs_element in testcorrs:\n",
    "        #print(testcorrs_element)\n",
    "        bin_val = int(abs((testcorrs_element*100))) // 10\n",
    "        count_bins[bin_val] = count_bins[bin_val] + 1\n",
    "    for coef in coefficients_temp:\n",
    "        coef_hashable = repr(coef)\n",
    "        if coef_hashable in my_coef_counts:\n",
    "            my_coef_counts[coef_hashable] += 1\n",
    "        else:\n",
    "            my_coef_counts[coef_hashable] = 1\n",
    "    for x_load in X_loadings_temp.transpose():\n",
    "        x_load_hashable = repr(x_load)\n",
    "        if x_load_hashable in my_x_loadings:\n",
    "            my_x_loadings[x_load_hashable] += 1\n",
    "        else:\n",
    "            my_x_loadings[x_load_hashable] = 1\n",
    "    \"\"\"\n",
    "    if b_iter % 10 == 0:\n",
    "        print(str(b_iter) + \" at \" + time.ctime(time.time()))\n",
    "        \n",
    "\n",
    "        print(time.time())"
   ]
  },
  {
   "cell_type": "code",
   "execution_count": 153,
   "metadata": {},
   "outputs": [
    {
     "name": "stdout",
     "output_type": "stream",
     "text": [
      "52\n",
      "0.15326558055060774\n"
     ]
    }
   ],
   "source": [
    "print(len(np.array(corrcoefs_bstrap_ls).mean(axis=0)))\n",
    "print(corrcoefs_bstrap_ls[1].mean())"
   ]
  },
  {
   "cell_type": "code",
   "execution_count": 35,
   "metadata": {},
   "outputs": [],
   "source": [
    "corrcoefs_bstrap = np.array(corrcoefs_bstrap_ls)\n",
    "corrcoefs_bstrap_means = corrcoefs_bstrap.mean(axis=0)\n",
    "corrcoefs_bstrap_5p = np.percentile(corrcoefs_bstrap, 5, axis=0)\n",
    "corrcoefs_bstrap_95p = np.percentile(corrcoefs_bstrap, 95, axis=0)"
   ]
  },
  {
   "cell_type": "code",
   "execution_count": 38,
   "metadata": {},
   "outputs": [],
   "source": [
    "corrcoefs_bstrap_fileout = r'Project\\data\\corrcoefs_bstrap.csv'\n",
    "with open(corrcoefs_bstrap_fileout, 'w') as f:\n",
    "    cwriter = csv.writer(f, delimiter=',', lineterminator='\\n')\n",
    "    cwriter.writerows(corrcoefs_bstrap)"
   ]
  },
  {
   "cell_type": "code",
   "execution_count": 36,
   "metadata": {},
   "outputs": [
    {
     "data": {
      "image/png": "[encoded data removed]",
      "text/plain": [
       "<Figure size 864x576 with 1 Axes>"
      ]
     },
     "metadata": {
      "needs_background": "light"
     },
     "output_type": "display_data"
    }
   ],
   "source": [
    "x = np.arange(len(corrcoefs_bstrap_means))\n",
    "plt.plot(x, corrcoefs_bstrap_means, 'b-', label='Null Mean')\n",
    "plt.fill_between(x, corrcoefs_bstrap_5p, corrcoefs_bstrap_95p, color='b', alpha=0.2)\n",
    "plt.rcParams['figure.figsize'] = [12, 8]\n",
    "plt.plot(np.arange(cca_model.n_components)+1, result, 'ko')\n",
    "plt.xlim(.5, .5+cca_model.n_components)\n",
    "plt.xticks(np.arange(cca_model.n_components)+1)\n",
    "plt.xlabel('Canonical component')\n",
    "plt.ylabel('Canonical correlation')\n",
    "plt.title('Canonical correlations')\n",
    "plt.legend()\n",
    "plt.show()"
   ]
  },
  {
   "cell_type": "code",
   "execution_count": 36,
   "metadata": {},
   "outputs": [
    {
     "name": "stdout",
     "output_type": "stream",
     "text": [
      "0.19896278181247912 [0.3]\n",
      "0.19247878600746648 [1.]\n",
      "0.18968346922392285 [1.01]\n",
      "0.18877419561365866 [1.01]\n",
      "0.18659460423816432 [1.01]\n",
      "0.18327549418148015 [1.01]\n",
      "0.18140398289005322 [1.01]\n",
      "0.18055091690434358 [1.01]\n",
      "0.1787214040043291 [1.01]\n",
      "0.17721784211083946 [1.01]\n",
      "0.17542701415985545 [1.01]\n",
      "0.17314684576800912 [1.01]\n",
      "0.1717090110802715 [1.01]\n",
      "0.1707449500436018 [1.01]\n",
      "0.1700584694429782 [1.01]\n",
      "0.16881181392421396 [1.01]\n",
      "0.16657584086850388 [1.01]\n",
      "0.16447971082695725 [1.01]\n",
      "0.16387313589120825 [1.01]\n",
      "0.16287590415065212 [1.01]\n",
      "0.16164201836699896 [1.01]\n",
      "0.1603280429244418 [1.01]\n",
      "0.16020846223402377 [1.01]\n",
      "0.15668163667490936 [1.01]\n",
      "0.15583455160326715 [1.01]\n",
      "0.15365323752227447 [1.01]\n",
      "0.15219031041661168 [1.01]\n",
      "0.14977263027399015 [1.01]\n",
      "0.14823585941814565 [1.01]\n",
      "0.1460876281863459 [1.01]\n",
      "0.14548023309750763 [1.01]\n",
      "0.1449756702787238 [1.01]\n",
      "0.14330239746149206 [1.01]\n",
      "0.14143301854863352 [1.01]\n",
      "0.1396203214014597 [1.01]\n",
      "0.1382539351236964 [1.01]\n",
      "0.13700619900419383 [1.01]\n",
      "0.13564349291067382 [1.01]\n",
      "0.13485760051739792 [1.01]\n",
      "0.13237726291871033 [1.01]\n",
      "0.12998343735058604 [1.01]\n",
      "0.12920660055906907 [1.01]\n",
      "0.12685880563276405 [1.01]\n",
      "0.12661095191433727 [1.01]\n",
      "0.12466197025362213 [1.01]\n",
      "0.1235580943682977 [1.01]\n",
      "0.12121958314707572 [1.01]\n",
      "0.11957434400547932 [1.01]\n",
      "0.11986087437323029 [1.01]\n",
      "0.11591042526774921 [1.01]\n",
      "[[0.3 ]\n",
      " [1.  ]\n",
      " [1.01]\n",
      " [1.01]\n",
      " [1.01]\n",
      " [1.01]\n",
      " [1.01]\n",
      " [1.01]\n",
      " [1.01]\n",
      " [1.01]\n",
      " [1.01]\n",
      " [1.01]\n",
      " [1.01]\n",
      " [1.01]\n",
      " [1.01]\n",
      " [1.01]\n",
      " [1.01]\n",
      " [1.01]\n",
      " [1.01]\n",
      " [1.01]\n",
      " [1.01]\n",
      " [1.01]\n",
      " [1.01]\n",
      " [1.01]\n",
      " [1.01]\n",
      " [1.01]\n",
      " [1.01]\n",
      " [1.01]\n",
      " [1.01]\n",
      " [1.01]\n",
      " [1.01]\n",
      " [1.01]\n",
      " [1.01]\n",
      " [1.01]\n",
      " [1.01]\n",
      " [1.01]\n",
      " [1.01]\n",
      " [1.01]\n",
      " [1.01]\n",
      " [1.01]\n",
      " [1.01]\n",
      " [1.01]\n",
      " [1.01]\n",
      " [1.01]\n",
      " [1.01]\n",
      " [1.01]\n",
      " [1.01]\n",
      " [1.01]\n",
      " [1.01]\n",
      " [1.01]]\n"
     ]
    }
   ],
   "source": [
    "for comp_x in range(0,n_cca_components):\n",
    "    corr_x = result[comp_x]\n",
    "    temp_compare = np.zeros(bootstrap_iters)\n",
    "    for b_iter in range(0,bootstrap_iters):\n",
    "        if corr_x < corrcoefs_bstrap[0,b_iter]:\n",
    "            temp_compare[b_iter] = 1\n",
    "        else:\n",
    "            temp_compare[b_iter] = 0\n",
    "    fwe_vals[comp_x] = (1+sum(temp_compare))/bootstrap_iters\n",
    "    #print(temp_compare)\n",
    "    #print(corr_x, fwe_vals[comp_x])\n",
    "#print(fwe_vals)"
   ]
  },
  {
   "cell_type": "code",
   "execution_count": 26,
   "metadata": {},
   "outputs": [
    {
     "name": "stdout",
     "output_type": "stream",
     "text": [
      "['Sex', 'Education', 'Walk Amnt', 'Walk Time', 'Moderate PA Amnt', 'Moderate PA Time', 'Hard PA  Amnt', 'Hard PA Time', 'Stairs Amnt', 'Fun Walk Amnt', 'Fun Walk Time', 'Sport Amnt', 'Sport Time', 'DIY Amnt', 'DIY Duration', 'Friend/Family', 'Curr Tobacco', 'Past Tobacco', 'Smokers in home', 'Smoke in home', 'Smoke outside', 'Alc Intake', 'Dep Mood', 'Confidants', 'Hearing', 'Diabetes', 'Hard DIY Amnt', 'Hard DIY Time', 'High BP', 'Hearing Aid', 'Num Cigs', 'Other exercise Amnt', 'Other exercise Time', 'Work Fulfil', 'Health Fulfil', 'Family Fulfil', 'Friend Fulfil', 'Cochlear', 'Tinnitus', 'Social Activity 1', 'Social Activity 2', 'Social Activity 3', 'Social Activity 4', 'Social Activity 5', 'Smoker', 'Major Depress Single', 'Major Depress Temp', 'Major Depress Recur', 'Past Smoker', 'BMI', 'BP 1', 'BP 2']\n"
     ]
    }
   ],
   "source": [
    "demo_col_readable_name = [col_readable_name_dict.get(item,item)  for item in demo_cols]\n",
    "print(demo_col_readable_name)"
   ]
  },
  {
   "cell_type": "code",
   "execution_count": 78,
   "metadata": {},
   "outputs": [],
   "source": [
    "weighted_pca_columns = pd.DataFrame({'Col':vert_cols,'Weight':Y_loadings[:,1],'Abs Weight':abs(Y_loadings[:,1])})\n",
    "weighted_pca100_columns = pd.DataFrame({'Col':vert_cols[:100],'Weight':Y_loadings[:100,1],'Abs Weight':abs(Y_loadings[:100,1])})"
   ]
  },
  {
   "cell_type": "code",
   "execution_count": 52,
   "metadata": {},
   "outputs": [
    {
     "data": {
      "text/plain": [
       "<bound method NDFrame.head of      Col    Weight  Abs Weight\n",
       "0      1 -0.186790    0.186790\n",
       "1      2 -0.336076    0.336076\n",
       "2      3  0.304762    0.304762\n",
       "3      4 -0.202304    0.202304\n",
       "4      5 -0.349195    0.349195\n",
       "..   ...       ...         ...\n",
       "595  596  0.013735    0.013735\n",
       "596  597 -0.018553    0.018553\n",
       "597  598 -0.005086    0.005086\n",
       "598  599 -0.003062    0.003062\n",
       "599  600  0.007619    0.007619\n",
       "\n",
       "[600 rows x 3 columns]>"
      ]
     },
     "execution_count": 52,
     "metadata": {},
     "output_type": "execute_result"
    }
   ],
   "source": [
    "weighted_pca_columns.head"
   ]
  },
  {
   "cell_type": "code",
   "execution_count": 48,
   "metadata": {},
   "outputs": [],
   "source": [
    "weighted_columns = pd.DataFrame({'Col':demo_cols,'Weight':X_loadings[:,1],'Abs Weight':abs(X_loadings[:,1])})\n",
    "#demo_col_readable_name = [col_readable_name_dict.get(item,item)  for item in demo_cols]\n",
    "weighted_columns = weighted_columns.replace({'Col': col_readable_name_dict})\n",
    "#print(weighted_columns)"
   ]
  },
  {
   "cell_type": "code",
   "execution_count": 73,
   "metadata": {},
   "outputs": [
    {
     "data": {
      "text/plain": [
       "<matplotlib.axes._subplots.AxesSubplot at 0x201c9bcb9b0>"
      ]
     },
     "execution_count": 73,
     "metadata": {},
     "output_type": "execute_result"
    },
    {
     "data": {
      "image/png": "[encoded data removed]",
      "text/plain": [
       "<Figure size 576x720 with 1 Axes>"
      ]
     },
     "metadata": {
      "needs_background": "light"
     },
     "output_type": "display_data"
    }
   ],
   "source": [
    "plt.figure(figsize=(8,10))\n",
    "sns.barplot(x='Abs Weight', y='Col',data=weighted_columns, order=weighted_columns.sort_values('Weight').Col, ci=None, palette='coolwarm')"
   ]
  },
  {
   "cell_type": "code",
   "execution_count": 169,
   "metadata": {},
   "outputs": [],
   "source": [
    "custom_palette = {}\n",
    "for q in set(weighted_pca_columns.Col):\n",
    "    w = weighted_pca_columns.loc[weighted_pca_columns['Col'] == q, 'Weight'].iloc[0]\n",
    "    if w < 0:\n",
    "        custom_palette[q] = 'b'\n",
    "    else:\n",
    "        custom_palette[q] = 'r'"
   ]
  },
  {
   "cell_type": "code",
   "execution_count": 170,
   "metadata": {},
   "outputs": [
    {
     "data": {
      "image/png": "[encoded data removed]",
      "text/plain": [
       "<Figure size 1728x864 with 1 Axes>"
      ]
     },
     "metadata": {
      "needs_background": "light"
     },
     "output_type": "display_data"
    }
   ],
   "source": [
    "plt.figure(figsize=(24,12))\n",
    "plot_ = sns.barplot(y='Weight', x='Col', data=weighted_pca_columns, ci=None, palette=custom_palette)\n",
    "#plot_.xaxis.set_major_locator(ticker.LinearLocator(600))\n",
    "for ind, label in enumerate(plot_.get_xticklabels()):\n",
    "    if (ind+1) % 10 == 0:  # every 10th label is kept\n",
    "        label.set_visible(True)\n",
    "    else:\n",
    "        label.set_visible(False)"
   ]
  },
  {
   "cell_type": "code",
   "execution_count": null,
   "metadata": {},
   "outputs": [],
   "source": []
  }
 ],
 "metadata": {
  "kernelspec": {
   "display_name": "Python 3",
   "language": "python",
   "name": "python3"
  },
  "language_info": {
   "codemirror_mode": {
    "name": "ipython",
    "version": 3
   },
   "file_extension": ".py",
   "mimetype": "text/x-python",
   "name": "python",
   "nbconvert_exporter": "python",
   "pygments_lexer": "ipython3",
   "version": "3.6.4"
  }
 },
 "nbformat": 4,
 "nbformat_minor": 2
}
