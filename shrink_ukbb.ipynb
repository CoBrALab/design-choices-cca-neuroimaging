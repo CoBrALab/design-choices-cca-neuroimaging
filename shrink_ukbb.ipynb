{
 "cells": [
  {
   "cell_type": "code",
   "execution_count": null,
   "metadata": {},
   "outputs": [],
   "source": [
    "import os\n",
    "import re\n",
    "import glob\n",
    "import pandas as pd\n",
    "import csv\n",
    "import matplotlib.pyplot as plt\n",
    "import math\n",
    "import numpy as np\n",
    "import random"
   ]
  },
  {
   "cell_type": "code",
   "execution_count": null,
   "metadata": {},
   "outputs": [],
   "source": [
    "#filename of all necessary demoghraphic files\n",
    "ukbb_data_filename = r'ukb46307.tab'\n",
    "ukbb_withdrawn_ids_filename = r'ukbb_participants_consent_withdrawn.csv'\n",
    "ukbb_with_civet_ids_filename = r'ukbb_participants_with_civet.tsv'\n",
    "ukbb_codes_tokeep_filename = r'ukbb_data_field_codes_reduced_numonly.csv'"
   ]
  },
  {
   "cell_type": "code",
   "execution_count": null,
   "metadata": {},
   "outputs": [],
   "source": [
    "#output filenames\n",
    "ukbb_data_smaller_filename = r'ukb46307_with_civet_temp_reduced.tab'\n",
    "ukbb_data_final_output = r'ukb46307_with_civet_reduced.tab'\n",
    "ukbb_data_final_participants = r'ukb46307_with_civet_participant_list.csv'\n",
    "ukbb_data_final_fieldnames = r'ukb46307_with_civet_field_code_list.csv'\n",
    "ukbb_data_final_participants_qc_sample = r'ukb46307_with_civet_participant_list_qc_sample.csv'"
   ]
  },
  {
   "cell_type": "code",
   "execution_count": null,
   "metadata": {},
   "outputs": [],
   "source": [
    "additional_fieldnames = [\"f.20123.0.0\",\"f.20124.0.0\",\"f.20125.0.0\",\"f.31.0.0\"]"
   ]
  },
  {
   "cell_type": "code",
   "execution_count": null,
   "metadata": {},
   "outputs": [],
   "source": [
    "#Create list of all participants who have opted to withdraw from dataset\n",
    "ukbb_withdrawn_ids = []\n",
    "with open(ukbb_withdrawn_ids_filename) as file:\n",
    "    for line in csv.reader(file, delimiter=','):\n",
    "        ukbb_withdrawn_ids.append(re.sub(\"[^0-9]\", \"\", line[0]))\n",
    "#print(ukbb_withdrawn_ids)\n",
    "ukbb_withdrawn_ids_len = len(ukbb_withdrawn_ids)\n",
    "print(\"Withdrawn participants: \" + str(ukbb_withdrawn_ids_len))"
   ]
  },
  {
   "cell_type": "code",
   "execution_count": null,
   "metadata": {},
   "outputs": [],
   "source": [
    "#Create a list of all participants who have been run through CIVET\n",
    "ukbb_with_civet_ids = []\n",
    "first = True\n",
    "with open(ukbb_with_civet_ids_filename) as file:\n",
    "    for line in csv.reader(file, dialect=\"excel-tab\"):\n",
    "        if not first:\n",
    "            ukbb_with_civet_ids.append(re.sub(\"[^0-9]\", \"\", line[0][4:]))\n",
    "        first = False\n",
    "#print(ukbb_with_civet_ids)\n",
    "ukbb_with_civet_ids_len = len(ukbb_with_civet_ids)\n",
    "print(\"Participants with CIVET: \" + str(ukbb_with_civet_ids_len))"
   ]
  },
  {
   "cell_type": "code",
   "execution_count": null,
   "metadata": {},
   "outputs": [],
   "source": [
    "#Import a list of the field codes to be used\n",
    "ukbb_field_codes = []\n",
    "with open(ukbb_codes_tokeep_filename) as file:\n",
    "    for line in csv.reader(file, delimiter=','):\n",
    "        ukbb_field_codes.append(re.sub(\"[^0-9]\", \"\", line[0])) \n",
    "ukbb_field_codes_len = len(ukbb_field_codes)\n",
    "print(\"Field codes: \" + str(ukbb_field_codes_len))\n",
    "#print(ukbb_field_codes[:5])"
   ]
  },
  {
   "cell_type": "code",
   "execution_count": null,
   "metadata": {},
   "outputs": [],
   "source": [
    "#Return all instances of every field code (every time point)\n",
    "def get_idx_field_codes(header_line):\n",
    "    list_codes = [0]\n",
    "    curr_idx = 0\n",
    "    for field_name in header_line:\n",
    "        if field_name in additional_fieldnames:\n",
    "            list_codes.append(curr_idx)\n",
    "        else:\n",
    "            #pattern which will find the third (when MRI was taken) instance of a measurement\n",
    "            pattern = r\"f\\.(.*?)\\.2\"\n",
    "            #print(field_name)\n",
    "            code = re.search(pattern, field_name)\n",
    "            #check that code exists\n",
    "            if code:\n",
    "                code = code.group(1)\n",
    "                if int(code.split('.')[0]) > int(ukbb_field_codes[0]):\n",
    "                    ukbb_field_codes.pop(0)\n",
    "        #if can't find the the code at the third instance get first instead\n",
    "#         else:\n",
    "#             #print(\"here\")\n",
    "#             #pattern which will find the first instance of measurement\n",
    "#             pattern_firstinstance = r\"f\\.(.*?)\\.0\"\n",
    "#             code_firstinstance = re.search(pattern_firstinstance, field_name)\n",
    "#             if code_firstinstance:\n",
    "#                 code_firstinstance = code_firstinstance.group(1)\n",
    "#                 if int(code_firstinstance.split('.')[0]) > int(ukbb_field_codes[0]):\n",
    "#                     ukbb_field_codes.pop(0)\n",
    "        if not ukbb_field_codes:\n",
    "            return list_codes\n",
    "        #print(code)\n",
    "        if code == ukbb_field_codes[0]:\n",
    "            #print()\n",
    "            list_codes.append(curr_idx)\n",
    "        curr_idx += 1\n",
    "    return list_codes"
   ]
  },
  {
   "cell_type": "code",
   "execution_count": null,
   "metadata": {},
   "outputs": [],
   "source": [
    "#l = get_idx_field_codes(['f.eid', 'f.3.0.0', 'f.3.1.0', 'f.3.2.0', 'f.3.3.0', 'f.3.3.0', 'f.4.0.0','f.31.0.0', 'f.31.1.0', 'f.34.0.0'])\n",
    "#print(l)"
   ]
  },
  {
   "cell_type": "code",
   "execution_count": null,
   "metadata": {},
   "outputs": [],
   "source": [
    "def read_file():\n",
    "    \n",
    "    #do some checks\n",
    "    if ukbb_withdrawn_ids_len != len(ukbb_withdrawn_ids):\n",
    "        print(\"Withdrawn Issue\")\n",
    "        return\n",
    "    if ukbb_with_civet_ids_len != len(ukbb_with_civet_ids):\n",
    "        print(\"Civet IDs Issue\")\n",
    "        return\n",
    "    if ukbb_field_codes_len != len(ukbb_field_codes):\n",
    "        print(\"Field Codes Issue\")\n",
    "        return\n",
    "\n",
    "    tempx = 0\n",
    "    count_numkept = 0\n",
    "    first = True\n",
    "    code_idxs = []\n",
    "    with open(ukbb_data_smaller_filename, 'w') as ukbb_data_smaller:\n",
    "        with open(ukbb_data_filename) as tsv:\n",
    "            for line in csv.reader(tsv, dialect=\"excel-tab\"):\n",
    "                #write header to new file\n",
    "                if first:\n",
    "                    code_idxs = get_idx_field_codes(line)\n",
    "                    print(len(code_idxs))\n",
    "                    out_line = [line[i] for i in code_idxs]\n",
    "                    ukbb_data_smaller.write('\\t'.join(out_line) + '\\n')\n",
    "                    first = False\n",
    "                else:\n",
    "                    current_id = line[0]\n",
    "                    #rint(current_id)\n",
    "                    #if particpant has not withdrawn check if they have civet\n",
    "                    if current_id != ukbb_withdrawn_ids[0]:\n",
    "                        #rint(\"\\tnot withdrawn\")\n",
    "                        #if participant has civet add their data to the new sheet\n",
    "                        if current_id == ukbb_with_civet_ids[0]:\n",
    "                            #print(\"\\thas civet\")\n",
    "                            out_line = [line[i] for i in code_idxs]\n",
    "                            ukbb_data_smaller.write('\\t'.join(out_line) + '\\n')\n",
    "                            count_numkept += 1\n",
    "                            ukbb_with_civet_ids.pop(0)\n",
    "                        elif int(current_id) > int(ukbb_with_civet_ids[0]):\n",
    "                            print(\"Missing Participant\")\n",
    "                            print(\"Current ID \" + current_id)\n",
    "                            print(\"Civet ID \" + ukbb_with_civet_ids[0])\n",
    "                            ukbb_with_civet_ids.pop(0)\n",
    "                            #return\n",
    "                        #if participant doesn't have civet do not keep their data\n",
    "                    #if participant has withdrawn do not keep any of their data\n",
    "                    else:\n",
    "                        ukbb_withdrawn_ids.pop(0)\n",
    "                    \n",
    "                    tempx += 1\n",
    "                    \n",
    "                    #check more participants still to keep\n",
    "                    if not ukbb_with_civet_ids:\n",
    "                        print(\"No more civet participants\")\n",
    "                        print(\"Num kept: \" + str(count_numkept))\n",
    "                        print(\"Num went through: \" + str(tempx))\n",
    "                        return\n",
    "                     \n",
    "                    if tempx % 50000 == 0:\n",
    "                        print(tempx)\n",
    "                        print(count_numkept)\n",
    "                    #    return\n",
    "    #print(tempx)\n",
    "    print(count_numkept)"
   ]
  },
  {
   "cell_type": "code",
   "execution_count": null,
   "metadata": {},
   "outputs": [],
   "source": [
    "read_file()"
   ]
  },
  {
   "cell_type": "code",
   "execution_count": null,
   "metadata": {},
   "outputs": [],
   "source": [
    "def check_file_contents():\n",
    "    ix = 0\n",
    "    with open(ukbb_data_smaller_filename, 'r') as ukbb_data_smaller_check:\n",
    "        for line in csv.reader(ukbb_data_smaller_check, dialect=\"excel-tab\"):\n",
    "            print(line)\n",
    "            print(len(line))\n",
    "            ix += 1\n",
    "            if ix >= 1:\n",
    "                return\n",
    "check_file_contents()"
   ]
  },
  {
   "cell_type": "code",
   "execution_count": null,
   "metadata": {},
   "outputs": [],
   "source": [
    "#Load the csv into a dataframe to further modify\n",
    "df = pd.read_csv(ukbb_data_smaller_filename, sep='\\t', header=0)\n",
    "print(df.shape)"
   ]
  },
  {
   "cell_type": "code",
   "execution_count": null,
   "metadata": {},
   "outputs": [],
   "source": [
    "#Blood Pressure (bp) was taken twice in a row either manually or automatically (not both)\n",
    "#Create new empty bp cols\n",
    "df['bp.0'] = np.nan\n",
    "df['bp.1'] = np.nan\n",
    "#If bp was taken manually add that measure to new col\n",
    "df.loc[df['f.94.2.0'].notna(), 'bp.0'] = df['f.94.2.0']\n",
    "df.loc[df['f.94.2.1'].notna(), 'bp.1'] = df['f.94.2.1']\n",
    "#If bp was taken automatically add that measure to new col\n",
    "df.loc[df['f.4079.2.0'].notna(), 'bp.0'] = df['f.4079.2.0']\n",
    "df.loc[df['f.4079.2.1'].notna(), 'bp.1'] = df['f.4079.2.1']\n",
    "#Remove old blood pressure cols\n",
    "df = df.drop(['f.94.2.0','f.4079.2.0','f.94.2.1','f.4079.2.1'],axis=1)"
   ]
  },
  {
   "cell_type": "code",
   "execution_count": null,
   "metadata": {},
   "outputs": [],
   "source": [
    "#Count the number of missing values for each subject and append to new col\n",
    "df['countnull'] = df.isna().sum(axis=1)\n",
    "#df['countnull']"
   ]
  },
  {
   "cell_type": "code",
   "execution_count": null,
   "metadata": {},
   "outputs": [],
   "source": [
    "df_countnulls = df['countnull'].to_numpy()"
   ]
  },
  {
   "cell_type": "code",
   "execution_count": null,
   "metadata": {},
   "outputs": [],
   "source": [
    "seriesObj = df.apply(lambda df: True if df['countnull'] <= 15 else False , axis=1)\n",
    "# Count number of True in series\n",
    "numOfRows = len(seriesObj[seriesObj == True].index)\n",
    "print('Number of Participants whop have at least 40 out of 55 variables: ', numOfRows)"
   ]
  },
  {
   "cell_type": "code",
   "execution_count": null,
   "metadata": {},
   "outputs": [],
   "source": [
    "#Graph the number of participants with data availablity\n",
    "#plt.plot(bins, count_aoc)\n",
    "#plt.title('Number of Pariticpants with at least _% data avaiable')\n",
    "#plt.xlabel('% Data Available')\n",
    "#plt.ylabel('# Participants')\n",
    "#plt.show()"
   ]
  },
  {
   "cell_type": "code",
   "execution_count": null,
   "metadata": {},
   "outputs": [],
   "source": [
    "num_participants_before = df.shape[0]\n",
    "#Remove pariticpants who are missing more than 15 variables\n",
    "df = df.drop(df[df['countnull'] > 15].index)\n",
    "num_participants_after = df.shape[0]\n",
    "#Print how many participants were removed\n",
    "print(str(num_participants_before-num_participants_after) + \" removed\")"
   ]
  },
  {
   "cell_type": "code",
   "execution_count": null,
   "metadata": {},
   "outputs": [],
   "source": [
    "halfp = df.shape[0] // 2\n",
    "eightyp = math.trunc(df.shape[0] * .8)\n",
    "ninteyp = math.trunc(df.shape[0] * .9)\n",
    "fifteenp = math.trunc(df.shape[0] * .15)\n",
    "halfmissing = []\n",
    "eightymissing = []\n",
    "ninteymissing = []\n",
    "fifteenmissing = []\n",
    "for col in df.columns:\n",
    "    if df[col].isna().sum() >= halfp:\n",
    "        halfmissing.append(col)\n",
    "    if df[col].isna().sum() >= eightyp:\n",
    "        eightymissing.append(col)\n",
    "    if df[col].isna().sum() >= ninteyp:\n",
    "        ninteymissing.append(col)"
   ]
  },
  {
   "cell_type": "code",
   "execution_count": null,
   "metadata": {},
   "outputs": [],
   "source": [
    "print(len(halfmissing))\n",
    "print(len(eightymissing))\n",
    "print(len(ninteymissing))"
   ]
  },
  {
   "cell_type": "code",
   "execution_count": null,
   "metadata": {},
   "outputs": [],
   "source": [
    "print(ninteymissing)"
   ]
  },
  {
   "cell_type": "code",
   "execution_count": null,
   "metadata": {},
   "outputs": [],
   "source": [
    "df = df.drop(ninteymissing,axis=1)\n",
    "df = df.drop('countnull',axis=1)"
   ]
  },
  {
   "cell_type": "code",
   "execution_count": null,
   "metadata": {},
   "outputs": [],
   "source": [
    "print(df.shape)"
   ]
  },
  {
   "cell_type": "code",
   "execution_count": null,
   "metadata": {},
   "outputs": [],
   "source": [
    "df"
   ]
  },
  {
   "cell_type": "code",
   "execution_count": null,
   "metadata": {},
   "outputs": [],
   "source": [
    "#export to csv\n",
    "df.to_csv(ukbb_data_final_output, index=False, sep='\\t')\n",
    "#Export list of all participants to separate csv\n",
    "df_participants = df[['f.eid','f.31.0.0']]\n",
    "df_participants.to_csv(ukbb_data_final_participants, index=False)\n",
    "#Export list of all variables to separate csv\n",
    "df.head(0).to_csv(ukbb_data_final_fieldnames, index=False)"
   ]
  },
  {
   "cell_type": "code",
   "execution_count": null,
   "metadata": {},
   "outputs": [],
   "source": [
    "fig, ax = plt.subplots()\n",
    "ax.bar(tt.keys(),tt.values)#color=['blue', 'cyan'])\n",
    "#    plt.text(value, index, str(value))\n",
    "\n",
    "ax.text(0.05, 0.95, \"na = \" + str(nacount), transform=ax.transAxes, fontsize=14,\n",
    "        verticalalignment='top')\n",
    "#ax.set_xlim(0,1.1)\n",
    "#ax.set_ylabel(\"# Participants\")\n",
    "ax.set_xlabel(\"Blood Pressure\")\n",
    "plt.show()"
   ]
  }
 ],
 "metadata": {
  "kernelspec": {
   "display_name": "Python 3",
   "language": "python",
   "name": "python3"
  },
  "language_info": {
   "codemirror_mode": {
    "name": "ipython",
    "version": 3
   },
   "file_extension": ".py",
   "mimetype": "text/x-python",
   "name": "python",
   "nbconvert_exporter": "python",
   "pygments_lexer": "ipython3",
   "version": "3.6.4"
  }
 },
 "nbformat": 4,
 "nbformat_minor": 2
}
