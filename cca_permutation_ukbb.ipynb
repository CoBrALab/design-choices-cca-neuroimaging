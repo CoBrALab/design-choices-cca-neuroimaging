{
 "cells": [
  {
   "cell_type": "code",
   "execution_count": 1,
   "metadata": {},
   "outputs": [
    {
     "name": "stderr",
     "output_type": "stream",
     "text": [
      "c:\\users\\grace\\appdata\\local\\programs\\python\\python36\\lib\\importlib\\_bootstrap_external.py:426: ImportWarning: Not importing directory c:\\users\\grace\\appdata\\local\\programs\\python\\python36\\lib\\site-packages\\google: missing __init__\n",
      "  _warnings.warn(msg.format(portions[0]), ImportWarning)\n",
      "c:\\users\\grace\\appdata\\local\\programs\\python\\python36\\lib\\importlib\\_bootstrap_external.py:426: ImportWarning: Not importing directory c:\\users\\grace\\appdata\\local\\programs\\python\\python36\\lib\\site-packages\\mpl_toolkits: missing __init__\n",
      "  _warnings.warn(msg.format(portions[0]), ImportWarning)\n"
     ]
    }
   ],
   "source": [
    "import os\n",
    "import re\n",
    "import glob\n",
    "import pandas as pd\n",
    "import csv\n",
    "from sklearn.cross_decomposition import CCA\n",
    "from sklearn.utils import resample\n",
    "from sklearn.utils import shuffle\n",
    "import load_approved_data\n",
    "import matplotlib.pyplot as plt\n",
    "import numpy as np\n",
    "import time\n",
    "import seaborn as sns\n",
    "import random\n",
    "from sklearn.preprocessing import StandardScaler\n",
    "from scipy.stats import zscore\n",
    "import matplotlib.ticker as ticker"
   ]
  },
  {
   "cell_type": "code",
   "execution_count": 2,
   "metadata": {},
   "outputs": [],
   "source": [
    "import warnings\n",
    "warnings.filterwarnings('ignore')"
   ]
  },
  {
   "cell_type": "code",
   "execution_count": 3,
   "metadata": {},
   "outputs": [],
   "source": [
    "bootstrap_iters = 5\n",
    "n_cca_components = 52"
   ]
  },
  {
   "cell_type": "code",
   "execution_count": 4,
   "metadata": {},
   "outputs": [],
   "source": [
    "#read in behavioural/demogrpahic data to pandas dataframe\n",
    "demographics_data_filename = r'Project\\data\\original\\ukb46307_with_civet_reduced.tab'\n",
    "demographics_data = pd.read_csv(demographics_data_filename, header=0,  index_col='f.eid', sep='\\t')"
   ]
  },
  {
   "cell_type": "code",
   "execution_count": 5,
   "metadata": {},
   "outputs": [
    {
     "name": "stdout",
     "output_type": "stream",
     "text": [
      "Participants: 26508\n"
     ]
    }
   ],
   "source": [
    "#ensure number of participants is as expected\n",
    "all_ids = demographics_data.index.tolist()\n",
    "print(\"Participants: \" + str(len(all_ids)))"
   ]
  },
  {
   "cell_type": "code",
   "execution_count": 6,
   "metadata": {},
   "outputs": [],
   "source": [
    "#drop the count of null columns (used in shrink_ukbb script)\n",
    "demographics_data = demographics_data.drop(columns=['countnull'])"
   ]
  },
  {
   "cell_type": "code",
   "execution_count": null,
   "metadata": {},
   "outputs": [],
   "source": [
    "#next four steps ensures columns are zscored, nulls are filled in, and categorical columns are marked as such"
   ]
  },
  {
   "cell_type": "code",
   "execution_count": 9,
   "metadata": {},
   "outputs": [],
   "source": [
    "demo_cols = demographics_data.columns"
   ]
  },
  {
   "cell_type": "code",
   "execution_count": 11,
   "metadata": {},
   "outputs": [],
   "source": [
    "col_name_dict_file = r'Project/data/supplemental/ColumnHeaders-WrittenNames-Shortform.csv'\n",
    "col_readable_name_dict = pd.read_csv(col_name_dict_file, header=None, index_col=0, squeeze=True).to_dict()"
   ]
  },
  {
   "cell_type": "code",
   "execution_count": 12,
   "metadata": {},
   "outputs": [],
   "source": [
    "demo_cols_categorical = ['f.31.0.0','f.971.2.0', 'f.981.2.0', 'f.991.2.0', 'f.1001.2.0', 'f.1011.2.0', 'f.1021.2.0', 'f.1031.2.0', 'f.1249.2.0', 'f.1259.2.0', 'f.2634.2.0', 'f.3393.2.0', 'f.3637.2.0', 'f.3647.2.0', 'f.4792.2.0', 'f.4803.2.0', 'f.6160.2.1', 'f.6160.2.2', 'f.6160.2.3', 'f.6160.2.4', 'f.20160.2.0']\n",
    "for col_name in  demo_cols:\n",
    "    if col_name in demo_cols_categorical:\n",
    "        #change column type to category\n",
    "        demographics_data[col_name] = demographics_data[col_name].astype('category')\n",
    "        if 0 in demographics_data[col_name].cat.categories:\n",
    "            if -1 in demographics_data[col_name].cat.categories:\n",
    "                demographics_data[col_name] = demographics_data[col_name].cat.add_categories('-1.0').fillna('-1.0')\n",
    "            else:\n",
    "                demographics_data[col_name] = demographics_data[col_name].cat.add_categories('-4.0').fillna('-4.0')\n",
    "        else:\n",
    "            demographics_data[col_name] = demographics_data[col_name].cat.add_categories('0').fillna('0')\n",
    "        #add category to encompass nulls\n",
    "        #demographics_data[col_name] = demographics_data[col_name].cat.add_categories('-1.0').fillna('-1.0')\n",
    "    else:\n",
    "        demographics_data[col_name] = demographics_data[col_name].fillna(demographics_data[col_name].mean())\n",
    "        demographics_data[col_name] = zscore(demographics_data[col_name])"
   ]
  },
  {
   "cell_type": "code",
   "execution_count": 13,
   "metadata": {},
   "outputs": [],
   "source": [
    "demographics_data = demographics_data.fillna(demographics_data.mean())"
   ]
  },
  {
   "cell_type": "code",
   "execution_count": 14,
   "metadata": {},
   "outputs": [],
   "source": [
    "#read in vertex data (reduced)\n",
    "component_file_location = r'F:valid//all_600_pcas_vertex.csv' #could be pca, ica, spectral, or aal\n",
    "vertexes_data = pd.read_csv(component_file_location, header=None, index_col=0)"
   ]
  },
  {
   "cell_type": "code",
   "execution_count": 15,
   "metadata": {},
   "outputs": [],
   "source": [
    "vert_cols = vertexes_data.columns"
   ]
  },
  {
   "cell_type": "code",
   "execution_count": 16,
   "metadata": {},
   "outputs": [
    {
     "name": "stdout",
     "output_type": "stream",
     "text": [
      "(25043, 600)\n",
      "(26508, 52)\n"
     ]
    }
   ],
   "source": [
    "print(vertexes_data.shape)\n",
    "print(demographics_data.shape)"
   ]
  },
  {
   "cell_type": "code",
   "execution_count": 17,
   "metadata": {},
   "outputs": [],
   "source": [
    "#exclude participants who don't have either demographic or vertex data\n",
    "demographics_data = pd.merge(vertexes_data,demographics_data,how=\"inner\",left_index=True,right_index=True)[demo_cols]"
   ]
  },
  {
   "cell_type": "code",
   "execution_count": 18,
   "metadata": {},
   "outputs": [],
   "source": [
    "#make sure all participants are in same order across data sets\n",
    "vertexes_data.sort_index(inplace=True, ascending=True)\n",
    "demographics_data.sort_index(inplace=True, ascending=True)"
   ]
  },
  {
   "cell_type": "code",
   "execution_count": 19,
   "metadata": {},
   "outputs": [
    {
     "name": "stdout",
     "output_type": "stream",
     "text": [
      "(25043, 600)\n",
      "(25043, 52)\n"
     ]
    }
   ],
   "source": [
    "print(vertexes_data.shape)\n",
    "print(demographics_data.shape)"
   ]
  },
  {
   "cell_type": "code",
   "execution_count": 20,
   "metadata": {},
   "outputs": [
    {
     "name": "stdout",
     "output_type": "stream",
     "text": [
      "(25043, 52)\n",
      "(25043, 52)\n"
     ]
    }
   ],
   "source": [
    "#create and run CCA model\n",
    "cca_model = CCA(n_components=52)\n",
    "cca_model.fit(demographics_data,vertexes_data)\n",
    "\n",
    "#calculate the canonical correlation coefficients for each mode\n",
    "demographics_data_T, vertexes_data_T = cca_model.transform(demographics_data,vertexes_data)\n",
    "#print(demographics_data_T.shape)\n",
    "#print(vertexes_data_T.shape)\n",
    "result = np.corrcoef(demographics_data_T.T, vertexes_data_T.T).diagonal(offset=cca_model.n_components) "
   ]
  },
  {
   "cell_type": "code",
   "execution_count": 21,
   "metadata": {},
   "outputs": [
    {
     "data": {
      "text/plain": [
       "Text(0.5, 1.0, 'Canonical correlations')"
      ]
     },
     "execution_count": 21,
     "metadata": {},
     "output_type": "execute_result"
    },
    {
     "data": {
      "image/png": "[encoded data removed]",
      "text/plain": [
       "<Figure size 864x576 with 1 Axes>"
      ]
     },
     "metadata": {
      "needs_background": "light"
     },
     "output_type": "display_data"
    }
   ],
   "source": [
    "#plot the canonical correlations for each mode\n",
    "plt.rcParams['figure.figsize'] = [12, 8]\n",
    "plt.plot(np.arange(cca_model.n_components)+1, result, 'ko')\n",
    "plt.xlim(.5, .5+cca_model.n_components)\n",
    "plt.xticks(np.arange(cca_model.n_components)+1)\n",
    "plt.xlabel('Canonical component')\n",
    "plt.ylabel('Canonical correlation')\n",
    "plt.title('Canonical correlations')"
   ]
  },
  {
   "cell_type": "code",
   "execution_count": 23,
   "metadata": {},
   "outputs": [],
   "source": [
    "X_weights = cca_model.x_weights_\n",
    "X_loadings = cca_model.x_loadings_\n",
    "Y_weights = cca_model.y_weights_\n",
    "Y_loadings = cca_model.y_loadings_\n",
    "coefficients = cca_model.coef_"
   ]
  },
  {
   "cell_type": "code",
   "execution_count": null,
   "metadata": {},
   "outputs": [],
   "source": [
    "my_coef_counts = dict()\n",
    "my_x_loadings = dict()\n",
    "for x_load in X_loadings.transpose():\n",
    "    #print(x_load)\n",
    "    my_x_loadings[repr(x_load)] = 1\n",
    "for coef in coefficients:\n",
    "    #print(coef.shape)\n",
    "    #Note: use repr to convert coef to string since can't hash numpy array\n",
    "    my_coef_counts[repr(coef)] = 1 "
   ]
  },
  {
   "cell_type": "code",
   "execution_count": 24,
   "metadata": {},
   "outputs": [],
   "source": [
    "x_loading_fileout = r'Project\\data\\cca_model_demographic_loadings.csv'\n",
    "with open(x_loading_fileout, 'w') as f:\n",
    "    cwriter = csv.writer(f, delimiter=',', lineterminator='\\n')\n",
    "    cwriter.writerows(X_loadings)"
   ]
  },
  {
   "cell_type": "code",
   "execution_count": 25,
   "metadata": {},
   "outputs": [],
   "source": [
    "y_loading_fileout = r'Project\\data\\cca_model_vertex_loadings.csv'\n",
    "with open(y_loading_fileout, 'w') as f:\n",
    "    cwriter = csv.writer(f, delimiter=',', lineterminator='\\n')\n",
    "    cwriter.writerows(Y_loadings)"
   ]
  },
  {
   "cell_type": "code",
   "execution_count": 22,
   "metadata": {},
   "outputs": [
    {
     "name": "stdout",
     "output_type": "stream",
     "text": [
      "(52, 5)\n"
     ]
    }
   ],
   "source": [
    "#initialize an array to hold the correlation coefficients from the permutations\n",
    "corrcoefs_bstrap = np.zeros((n_cca_components, bootstrap_iters))\n",
    "print(corrcoefs_bstrap.shape)\n",
    "fwe_vals = np.zeros((n_cca_components,1))\n",
    "count_bins=np.zeros(10)"
   ]
  },
  {
   "cell_type": "code",
   "execution_count": 25,
   "metadata": {},
   "outputs": [],
   "source": [
    "corrcoefs_bstrap_ls = []"
   ]
  },
  {
   "cell_type": "code",
   "execution_count": 26,
   "metadata": {},
   "outputs": [],
   "source": [
    "#function to fun cca permutations with broken linkages between the demographics and vertexes\n",
    "def run_shuffled_cca(ddata,vdata, ix):\n",
    "    demographics_shuffled, vertexes_shuffled = shuffle(ddata, vdata, random_state=ix)\n",
    "    #vertexes_shuffled = shuffle(vertexes)\n",
    "    cca_model_shuffled = CCA(n_components=n_cca_components)\n",
    "    cca_model_shuffled.fit(ddata,vertexes_shuffled)\n",
    "    #coefficients_temp = cca_model_shuffled.coef_\n",
    "    #X_loadings_temp = cca_model_shuffled.x_loadings_\n",
    "    #Y_loadings_temp = cca_model_shuffled.y_loadings_\n",
    "    test1_c, test2_c = cca_model_shuffled.transform(ddata, vertexes_shuffled)\n",
    "    testcorrs = np.corrcoef(test1_c.T, test2_c.T).diagonal(offset=cca_model_shuffled.n_components)\n",
    "    return testcorrs"
   ]
  },
  {
   "cell_type": "code",
   "execution_count": 27,
   "metadata": {},
   "outputs": [
    {
     "name": "stdout",
     "output_type": "stream",
     "text": [
      "Fri Apr  8 11:26:11 2022\n",
      "0 at Fri Apr  8 11:36:05 2022\n",
      "1649432165.0888963\n"
     ]
    }
   ],
   "source": [
    "print(time.ctime(time.time()))\n",
    "\n",
    "#run permutations of CCA\n",
    "for b_iter in range(0,bootstrap_iters):\n",
    "    #corrcoefs_bstrap[:,b_iter] = run_shuffled_cca(demographics_data,vertexes_data)\n",
    "    corrcoefs_bstrap_ls.append(run_shuffled_cca(demographics_data,vertexes_data,b_iter))\n",
    "    if b_iter % 10 == 0:\n",
    "        print(str(b_iter) + \" at \" + time.ctime(time.time()))"
   ]
  },
  {
   "cell_type": "code",
   "execution_count": 35,
   "metadata": {},
   "outputs": [],
   "source": [
    "#save the mean and percentile info from the permutations for plotting\n",
    "corrcoefs_bstrap = np.array(corrcoefs_bstrap_ls)\n",
    "corrcoefs_bstrap_means = corrcoefs_bstrap.mean(axis=0)\n",
    "corrcoefs_bstrap_5p = np.percentile(corrcoefs_bstrap, 5, axis=0)\n",
    "corrcoefs_bstrap_95p = np.percentile(corrcoefs_bstrap, 95, axis=0)"
   ]
  },
  {
   "cell_type": "code",
   "execution_count": 38,
   "metadata": {},
   "outputs": [],
   "source": [
    "corrcoefs_bstrap_fileout = r'Project\\data\\corrcoefs_bstrap.csv'\n",
    "with open(corrcoefs_bstrap_fileout, 'w') as f:\n",
    "    cwriter = csv.writer(f, delimiter=',', lineterminator='\\n')\n",
    "    cwriter.writerows(corrcoefs_bstrap)"
   ]
  },
  {
   "cell_type": "code",
   "execution_count": 36,
   "metadata": {},
   "outputs": [
    {
     "data": {
      "image/png": "[encoded data removed]",
      "text/plain": [
       "<Figure size 864x576 with 1 Axes>"
      ]
     },
     "metadata": {
      "needs_background": "light"
     },
     "output_type": "display_data"
    }
   ],
   "source": [
    "#plot the original canoncial correlations as well as the permutation ones\n",
    "x = np.arange(len(corrcoefs_bstrap_means))\n",
    "plt.plot(x, corrcoefs_bstrap_means, 'b-', label='Null Mean')\n",
    "plt.fill_between(x, corrcoefs_bstrap_5p, corrcoefs_bstrap_95p, color='b', alpha=0.2)\n",
    "plt.rcParams['figure.figsize'] = [12, 8]\n",
    "plt.plot(np.arange(cca_model.n_components)+1, result, 'ko')\n",
    "plt.xlim(.5, .5+cca_model.n_components)\n",
    "plt.xticks(np.arange(cca_model.n_components)+1)\n",
    "plt.xlabel('Canonical component')\n",
    "plt.ylabel('Canonical correlation')\n",
    "plt.title('Canonical correlations')\n",
    "plt.legend()\n",
    "plt.show()"
   ]
  },
  {
   "cell_type": "code",
   "execution_count": null,
   "metadata": {},
   "outputs": [],
   "source": [
    "for comp_x in range(0,n_cca_components):\n",
    "    corr_x = result[comp_x]\n",
    "    temp_compare = np.zeros(bootstrap_iters)\n",
    "    for b_iter in range(0,bootstrap_iters):\n",
    "        if corr_x < corrcoefs_bstrap[0,b_iter]:\n",
    "            temp_compare[b_iter] = 1\n",
    "        else:\n",
    "            temp_compare[b_iter] = 0\n",
    "    fwe_vals[comp_x] = (1+sum(temp_compare))/bootstrap_iters\n",
    "    #print(temp_compare)\n",
    "    #print(corr_x, fwe_vals[comp_x])\n",
    "#print(fwe_vals)"
   ]
  }
 ],
 "metadata": {
  "kernelspec": {
   "display_name": "Python 3",
   "language": "python",
   "name": "python3"
  },
  "language_info": {
   "codemirror_mode": {
    "name": "ipython",
    "version": 3
   },
   "file_extension": ".py",
   "mimetype": "text/x-python",
   "name": "python",
   "nbconvert_exporter": "python",
   "pygments_lexer": "ipython3",
   "version": "3.6.4"
  }
 },
 "nbformat": 4,
 "nbformat_minor": 2
}
